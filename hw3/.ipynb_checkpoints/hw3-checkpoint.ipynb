{
 "cells": [
  {
   "cell_type": "code",
   "execution_count": 1,
   "metadata": {},
   "outputs": [
    {
     "name": "stdout",
     "output_type": "stream",
     "text": [
      "введите текст: khgfkhkjhk\n",
      "kh\n"
     ]
    }
   ],
   "source": [
    "mystring= input('введите текст: ')\n",
    "if len(mystring)%2==0:\n",
    "    a=int(len(mystring)/2-1)\n",
    "    b=int(len(mystring)/2)\n",
    "    print(mystring[a]+ mystring[b])\n",
    "else: \n",
    "    a=int((len(mystring)+1)/2)-1\n",
    "    print(mystring[a])"
   ]
  },
  {
   "cell_type": "code",
   "execution_count": 48,
   "metadata": {},
   "outputs": [
    {
     "name": "stdout",
     "output_type": "stream",
     "text": [
      "Введите число:5\n",
      "Введите число: 4\n",
      "Введите число: 0\n",
      "Сумма чисел:  9\n"
     ]
    }
   ],
   "source": [
    "a=int(input('Введите число:'))\n",
    "b=0\n",
    "while a!=0:      \n",
    "    b+=a\n",
    "    a=int(input('Введите число: '))\n",
    "print('Сумма чисел: ',b)"
   ]
  },
  {
   "cell_type": "code",
   "execution_count": 47,
   "metadata": {},
   "outputs": [
    {
     "name": "stdout",
     "output_type": "stream",
     "text": [
      "Внимание, кто-то может остаться без пары!\n"
     ]
    }
   ],
   "source": [
    "boys = ['Peter','Alex', 'John', 'Arthur', 'Richard']\n",
    "girls = ['Kate', 'Liza', 'Kira', 'Emma', 'Trisha']\n",
    "if len(boys)!=len(girls):\n",
    "    print('Внимание, кто-то может остаться без пары!')\n",
    "else:\n",
    "    print('Идеальные пары:')\n",
    "    pairs=zip(sorted(girls), sorted(boys))\n",
    "    pairs_list=list(pairs) \n",
    "    for names in pairs_list:\n",
    "        print(names[0],'и',names[1])\n",
    "    "
   ]
  },
  {
   "cell_type": "code",
   "execution_count": 78,
   "metadata": {},
   "outputs": [
    {
     "name": "stdout",
     "output_type": "stream",
     "text": [
      "Thailand - 23.9 C\n",
      "Germany - 13.8 C\n",
      "Russia - 3.7 C\n",
      "Poland - 12.0 C\n"
     ]
    }
   ],
   "source": [
    "countries_temperature = [\n",
    "['Thailand', [75.2, 77, 78.8, 73.4, 68, 75.2, 77]],\n",
    "['Germany', [57.2, 55.4, 59, 59, 53.6]],\n",
    "['Russia', [35.6, 37.4, 39.2, 41, 42.8, 39.2, 35.6]],\n",
    "['Poland', [50, 50, 53.6, 57.2, 55.4, 55.4]]\n",
    "]\n",
    "for slot in countries_temperature:\n",
    "#(Фаренгейт — 32) : 1,8 = Цельсий\n",
    "    l=len(slot[1])\n",
    "    sumtc=0\n",
    "    for t in slot[1]:\n",
    "        ftoc = (t-32)*(5/9)\n",
    "        sumtc += ftoc\n",
    "    print(slot[0],'-', round(sumtc/l,1),'C') \n",
    "    "
   ]
  },
  {
   "cell_type": "code",
   "execution_count": 115,
   "metadata": {},
   "outputs": [
    {
     "name": "stdout",
     "output_type": "stream",
     "text": [
      "Среднее количество просмотров на уникального пользователя:  23.25\n"
     ]
    }
   ],
   "source": [
    "stream = [\n",
    "'2018-01-01,user1,3',\n",
    "'2018-01-07,user1,4',\n",
    "'2018-03-29,user1,1',\n",
    "'2018-04-04,user1,13',\n",
    "'2018-01-05,user2,7',\n",
    "'2018-06-14,user3,4',\n",
    "'2018-07-02,user3,10',\n",
    "'2018-03-21,user4,19',\n",
    "'2018-03-22,user4,4',\n",
    "'2018-04-22,user4,8',\n",
    "'2018-05-03,user4,9',\n",
    "'2018-05-11,user4,11',\n",
    "]\n",
    "\n",
    "unique = []\n",
    "ammount = 0\n",
    "for info in stream:\n",
    "    #print(info)\n",
    "    i=info.find(',',12)\n",
    "    user = info[11:i]\n",
    "    if user not in unique:\n",
    "        unique.append(user)    \n",
    "    ammount += int(info[i+1:])\n",
    "print('Среднее количество просмотров на уникального пользователя: ',ammount/len(unique))    \n",
    "\n",
    "    \n",
    "\n",
    "    "
   ]
  },
  {
   "cell_type": "code",
   "execution_count": null,
   "metadata": {},
   "outputs": [],
   "source": []
  }
 ],
 "metadata": {
  "kernelspec": {
   "display_name": "Python 3",
   "language": "python",
   "name": "python3"
  },
  "language_info": {
   "codemirror_mode": {
    "name": "ipython",
    "version": 3
   },
   "file_extension": ".py",
   "mimetype": "text/x-python",
   "name": "python",
   "nbconvert_exporter": "python",
   "pygments_lexer": "ipython3",
   "version": "3.8.5"
  }
 },
 "nbformat": 4,
 "nbformat_minor": 4
}
