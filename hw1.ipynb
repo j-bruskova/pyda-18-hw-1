{
 "cells": [
  {
   "cell_type": "code",
   "execution_count": 14,
   "metadata": {},
   "outputs": [
    {
     "name": "stdout",
     "output_type": "stream",
     "text": [
      "Фразы равной длины\n"
     ]
    }
   ],
   "source": [
    "phrase_1 = 'Насколько проще было бы писать программы, если бы не заказчики'\n",
    "phrase_2 = '640Кб должно хватить для любых задач. Билл Гейтс (по легенде)'\n",
    "if len(phrase_1)>len(phrase_2):\n",
    "    print (\"Фраза 1 длиннее фразы 2\")\n",
    "elif len(phrase_1)<len(phrase_2): \n",
    "    print ('Фраза 2 длиннее фразы 1')\n",
    "elif len(phrase_1)==len(phrase_2): \n",
    "    print ('Фразы равной длины')"
   ]
  },
  {
   "cell_type": "code",
   "execution_count": 21,
   "metadata": {},
   "outputs": [
    {
     "name": "stdout",
     "output_type": "stream",
     "text": [
      "Год високосный\n"
     ]
    }
   ],
   "source": [
    "year = 2020\n",
    "if (year%100==0 and year%400==0) or (year%100!=0 and year%4==0):\n",
    "    print ('Год високосный')\n",
    "else:\n",
    "    print ('Год не високосный')"
   ]
  },
  {
   "cell_type": "code",
   "execution_count": 28,
   "metadata": {},
   "outputs": [
    {
     "name": "stdout",
     "output_type": "stream",
     "text": [
      "Введите день55\n",
      "Введите месяц45\n",
      "Данные некорректны\n"
     ]
    }
   ],
   "source": [
    "day = int(input(\"Введите день\"))\n",
    "month = str(input(\"Введите месяц\"))\n",
    "if (month == \"Март\" and day>20) or (month == \"Апрель\" and day<21):\n",
    "    print ('Ваш знак зодиака: Овен')\n",
    "elif (month == \"Апрель\" and day>20) or (month == \"Май\" and day<22):\n",
    "    print ('Ваш знак зодиака: Телец')\n",
    "elif (month == \"Май\" and day>21)or (month == \"Июнь\" and day<22):\n",
    "    print ('Ваш знак зодиака: Близнецы')\n",
    "elif (month == \"Июнь\" and day>21)or (month == \"Июль\" and day<23):\n",
    "    print ('Ваш знак зодиака: Рак')\n",
    "elif (month == \"Июль\" and day>22)or (month == \"Августа\" and day<20):\n",
    "    print ('Ваш знак зодиака: Лев')\n",
    "elif (month == \"Август\" and day>21) or (month == \"Сентябрь\" and day<22):\n",
    "    print ('Ваш знак зодиака: Дева')\n",
    "elif (month == \"Снтябрь\" and day>23) or (month == \"Октябрь\" and day<22):\n",
    "    print ('Ваш знак зодиака: Весы')\n",
    "elif (month == \"Октябрь\" and day>23) or (month == \"Ноябрь\" and day<21):\n",
    "    print ('Ваш знак зодиака: Скорпион')\n",
    "elif (month == \"Ноябрь\" and day>22) or (month == \"Декабрь\" and day<23):\n",
    "    print ('Ваш знак зодиака: Стрелец')\n",
    "elif (month == \"Декабрь\" and day>22) or (month == \"Январь\" and day<19):\n",
    "    print ('Ваш знак зодиака: Козерог')\n",
    "elif (month == \"Январь\" and day>20) or (month == \"Февраль\" and day<20):\n",
    "    print ('Ваш знак зодиака: Водолей')\n",
    "elif (month == \"Февраль\" and day>19)or (month == \"Март\" and day<21):\n",
    "    print ('Ваш знак зодиака: Рыбы')\n",
    "else: print (\"Данные некорректны\")"
   ]
  },
  {
   "cell_type": "code",
   "execution_count": 42,
   "metadata": {},
   "outputs": [
    {
     "name": "stdout",
     "output_type": "stream",
     "text": [
      "Упаковка для лыж\n"
     ]
    }
   ],
   "source": [
    "weight = 15\n",
    "length = 203\n",
    "height = 15\n",
    "if weight<15 and length<15 and height<15:\n",
    "    print (\"Коробка №1\")\n",
    "elif weight<50 and length<50 and height<50:\n",
    "    print (\"Коробка №2\")\n",
    "elif length>200: \n",
    "    print (\"Упаковка для лыж\")\n",
    "else:\n",
    "    print (\"Стандартная коробка №3\")"
   ]
  },
  {
   "cell_type": "code",
   "execution_count": 44,
   "metadata": {},
   "outputs": [
    {
     "name": "stdout",
     "output_type": "stream",
     "text": [
      "Введите шестизначное число639716\n",
      "Нечастливый билет\n"
     ]
    }
   ],
   "source": [
    "number = int(input(\"Введите шестизначное число:\"))\n",
    "number = str(number)\n",
    "if (int(number[0])+int(number[1])+int(number[2])) == (int(number[3])+int(number[4])+int(number[5])):\n",
    "        print(\"Счастливый билет\")\n",
    "if (int(number[0])+int(number[1])+int(number[2])) != (int(number[3])+int(number[4])+int(number[5])):\n",
    "        print(\"Нечастливый билет\")"
   ]
  },
  {
   "cell_type": "code",
   "execution_count": 103,
   "metadata": {},
   "outputs": [
    {
     "name": "stdout",
     "output_type": "stream",
     "text": [
      "Введите тип фигуры:Прямоугольник\n",
      "Введите длину стороны A:2\n",
      "Введите длину стороны B:2\n",
      "Площадь прямоугольника:4\n"
     ]
    }
   ],
   "source": [
    "type = input('Введите тип фигуры:')\n",
    "if type == 'Круг':\n",
    "    r= int(input(\"Введите радиус круга:\"))\n",
    "    pi= 3.14\n",
    "    print(\"Площадь круга:\" + str((pi*(r**2))))\n",
    "elif type == 'Треугольник':\n",
    "    a=int(input(\"Введите длину стороны A:\"))\n",
    "    b=int(input(\"Введите длину стороны B:\"))\n",
    "    c=int(input(\"Введите длину стороны C:\"))\n",
    "    p=a*b*c\n",
    "    s=((p*(p-a)*(p-b)*(p-c))**0.5) #формула чет кривая сорри\n",
    "    print(\"Площадь треугольника:\"+ str(s))\n",
    "elif type == 'Прямоугольник':\n",
    "    a=int(input(\"Введите длину стороны A:\"))\n",
    "    b=int(input(\"Введите длину стороны B:\"))\n",
    "    s=a*b\n",
    "    print(\"Площадь прямоугольника:\"+str(s))"
   ]
  },
  {
   "cell_type": "code",
   "execution_count": null,
   "metadata": {},
   "outputs": [],
   "source": []
  }
 ],
 "metadata": {
  "kernelspec": {
   "display_name": "Python 3",
   "language": "python",
   "name": "python3"
  },
  "language_info": {
   "codemirror_mode": {
    "name": "ipython",
    "version": 3
   },
   "file_extension": ".py",
   "mimetype": "text/x-python",
   "name": "python",
   "nbconvert_exporter": "python",
   "pygments_lexer": "ipython3",
   "version": "3.8.5"
  }
 },
 "nbformat": 4,
 "nbformat_minor": 4
}
